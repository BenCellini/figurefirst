{
 "cells": [
  {
   "cell_type": "code",
   "execution_count": 3,
   "metadata": {
    "collapsed": false
   },
   "outputs": [],
   "source": [
    "from figurefirst import FigureLayout"
   ]
  },
  {
   "cell_type": "code",
   "execution_count": 1,
   "metadata": {
    "collapsed": false
   },
   "outputs": [
    {
     "name": "stderr",
     "output_type": "stream",
     "text": [
      "/Users/theodorelindsay/anaconda3/envs/python2/lib/python2.7/site-packages/matplotlib/font_manager.py:273: UserWarning: Matplotlib is building the font cache using fc-list. This may take a moment.\n",
      "  warnings.warn('Matplotlib is building the font cache using fc-list. This may take a moment.')\n"
     ]
    },
    {
     "name": "stdout",
     "output_type": "stream",
     "text": [
      "Using matplotlib backend: MacOSX\n",
      "Populating the interactive namespace from numpy and matplotlib\n"
     ]
    }
   ],
   "source": [
    "%pylab"
   ]
  },
  {
   "cell_type": "code",
   "execution_count": 4,
   "metadata": {
    "collapsed": false
   },
   "outputs": [
    {
     "name": "stdout",
     "output_type": "stream",
     "text": [
      "0.190912944444\n",
      "0.906341652778\n",
      "1.62177055556\n",
      "2.33719958333\n",
      "3.05262805556\n",
      "3.76805708333\n",
      "5.19891402778\n",
      "5.91434305556\n",
      "6.62977180556\n",
      "7.34520041667\n",
      "8.06062819444\n",
      "8.77605777778\n",
      "4.49261180556\n",
      "9.50596708333\n",
      "0.200134569444\n",
      "0.915563263889\n",
      "1.6309925\n",
      "2.34642138889\n",
      "3.06185027778\n",
      "3.77727888889\n",
      "5.20813666667\n",
      "5.92356527778\n",
      "6.63899402778\n",
      "7.35442180556\n",
      "8.06984958333\n",
      "8.78527916667\n",
      "4.50183361111\n",
      "9.51518847222\n",
      "0.195523763889\n",
      "0.910952680556\n",
      "1.62638180556\n",
      "2.34181083333\n",
      "3.05723888889\n",
      "3.77266777778\n",
      "5.20352472222\n",
      "5.91895375\n",
      "6.6343825\n",
      "7.34981111111\n",
      "8.06523888889\n",
      "8.78066847222\n",
      "4.49722291667\n",
      "9.51057777778\n",
      "0.204745666667\n",
      "0.920174486111\n",
      "1.63560319444\n",
      "2.3510325\n",
      "3.06646111111\n",
      "3.78188958333\n",
      "5.21274736111\n",
      "5.92817597222\n",
      "6.64360472222\n",
      "7.3590325\n",
      "8.07446041667\n",
      "8.78988902778\n",
      "4.50644430556\n",
      "9.5198\n"
     ]
    }
   ],
   "source": [
    "#create the layout object\n",
    "layout = FigureLayout('f2_layout.svg')"
   ]
  },
  {
   "cell_type": "code",
   "execution_count": 5,
   "metadata": {
    "collapsed": false
   },
   "outputs": [
    {
     "data": {
      "text/plain": [
       "[<matplotlib.lines.Line2D at 0x114f96a10>]"
      ]
     },
     "execution_count": 5,
     "metadata": {},
     "output_type": "execute_result"
    }
   ],
   "source": [
    "layout.axes['b1.22H05.start']['axis'].plot([12,3,2,521,2])"
   ]
  },
  {
   "cell_type": "code",
   "execution_count": 6,
   "metadata": {
    "collapsed": true
   },
   "outputs": [],
   "source": [
    "#save an output file\n",
    "layout.save_svg('out_test2.svg')"
   ]
  },
  {
   "cell_type": "code",
   "execution_count": 52,
   "metadata": {
    "collapsed": false
   },
   "outputs": [
    {
     "data": {
      "text/plain": [
       "0.4583333333333333"
      ]
     },
     "execution_count": 52,
     "metadata": {},
     "output_type": "execute_result"
    }
   ],
   "source": [
    "def upar(s):\n",
    "    try:\n",
    "        ind=map(str.isdigit,s).index(False)\n",
    "        num,unit=int(s[:ind]),s[ind:]\n",
    "    except ValueError:\n",
    "        num = int(s)\n",
    "        unit = 'px'\n",
    "    return num,unit\n",
    "\n",
    "def tounit(s,dst):\n",
    "    \"\"\"returns a float with the value of string s\n",
    "    in the units of dst\"\"\"\n",
    "    # need to support em, ex, px, pt, pc, cm, mm, in\n",
    "    # for svg as well as percent - not sure how to deal with this\n",
    "    scale_factors = {'px':{'in':72.,\n",
    "                        'cm':72/2.54,\n",
    "                        'mm':72/25.4,\n",
    "                        'px':1.},\n",
    "                  'in':{'in':1.,\n",
    "                        'cm':0.3937,\n",
    "                        'mm':0.0393,\n",
    "                        'px':1/72.},\n",
    "                  'mm':{'in':25.4,\n",
    "                        'cm':10.,\n",
    "                        'mm':1,\n",
    "                        'px':25.4/72},\n",
    "                  'cm':{'in':2.54,\n",
    "                        'cm':1.,\n",
    "                        'mm':0.1,\n",
    "                        'px':2.54/72}}\n",
    "    num,unit = upar(s)\n",
    "    return num/scale_factors[unit][dst]\n",
    "\n",
    "tounit('33','in')"
   ]
  },
  {
   "cell_type": "code",
   "execution_count": 31,
   "metadata": {
    "collapsed": false
   },
   "outputs": [],
   "source": [
    "conversions = {'px':{'in':72,\n",
    "                    'cm':72/2.54,\n",
    "                    'mm':72/25.4,\n",
    "                    'px':1},\n",
    "              'in':{'in':1,\n",
    "                    'cm':0.3937,\n",
    "                    'mm':0.0393,\n",
    "                    'px':1/72.},\n",
    "              'mm':{'in':25.4,\n",
    "                    'cm':10,\n",
    "                    'mm':1,\n",
    "                    'px':25.4/72},\n",
    "              'cm':{'in':2.54,\n",
    "                    'cm':1,\n",
    "                    'mm':0.1,\n",
    "                    'px':2.54/72}}"
   ]
  },
  {
   "cell_type": "code",
   "execution_count": 47,
   "metadata": {
    "collapsed": false
   },
   "outputs": [
    {
     "data": {
      "text/plain": [
       "1.3888888888888888"
      ]
     },
     "execution_count": 47,
     "metadata": {},
     "output_type": "execute_result"
    }
   ],
   "source": [
    "tounit('100px','in')"
   ]
  },
  {
   "cell_type": "code",
   "execution_count": 16,
   "metadata": {
    "collapsed": false
   },
   "outputs": [
    {
     "data": {
      "text/plain": [
       "False"
      ]
     },
     "execution_count": 16,
     "metadata": {},
     "output_type": "execute_result"
    }
   ],
   "source": [
    "s.isdigit()"
   ]
  },
  {
   "cell_type": "code",
   "execution_count": null,
   "metadata": {
    "collapsed": true
   },
   "outputs": [],
   "source": [
    "em, ex, px, pt, pc, cm, mm, in"
   ]
  }
 ],
 "metadata": {
  "kernelspec": {
   "display_name": "Python 2",
   "language": "python",
   "name": "python2"
  },
  "language_info": {
   "codemirror_mode": {
    "name": "ipython",
    "version": 2
   },
   "file_extension": ".py",
   "mimetype": "text/x-python",
   "name": "python",
   "nbconvert_exporter": "python",
   "pygments_lexer": "ipython2",
   "version": "2.7.11"
  }
 },
 "nbformat": 4,
 "nbformat_minor": 0
}
