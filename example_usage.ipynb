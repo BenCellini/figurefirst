{
 "cells": [
  {
   "cell_type": "code",
   "execution_count": 1,
   "metadata": {
    "collapsed": false
   },
   "outputs": [
    {
     "name": "stdout",
     "output_type": "stream",
     "text": [
      "Using matplotlib backend: Qt4Agg\n",
      "Populating the interactive namespace from numpy and matplotlib\n"
     ]
    }
   ],
   "source": [
    "%pylab"
   ]
  },
  {
   "cell_type": "markdown",
   "metadata": {},
   "source": [
    "... add overview and an introductory use case."
   ]
  },
  {
   "cell_type": "code",
   "execution_count": 2,
   "metadata": {
    "collapsed": false
   },
   "outputs": [],
   "source": [
    "from figurefirst import FigureLayout,mpl_functions"
   ]
  },
  {
   "cell_type": "markdown",
   "metadata": {},
   "source": [
    "You can decorate the svg <figurefirsrt:axis> tag with mpl.axis methods. For example to call ax.axhspan(100,200,zorder=10,color ='r',alpha = 0.3) on the axis named frequency.22H05.start use the following tag:\n",
    "\n",
    "```\n",
    "<figurefirst:axis\n",
    "     figurefirst:name=\"frequency.22H05.start\"\n",
    "     figurefirst:axhspan=\"100,200,zorder=10,color='r',alpha=.3\"/> ```\n",
    "     \n",
    "The layout.apply_mpl_methods function will then apply the methods passing the value of the svg atribute as arguments to the mpl.axis method."
   ]
  },
  {
   "cell_type": "code",
   "execution_count": 3,
   "metadata": {
    "collapsed": false,
    "scrolled": false
   },
   "outputs": [
    {
     "name": "stdout",
     "output_type": "stream",
     "text": [
      "ax.set_ylim(0,250)\n",
      "ax.yaxis.set_ticks([0,100,200])\n",
      "ax.set_ylabel('y label')\n",
      "ax.axhspan(100,200,zorder=10,color='r',alpha=.3)\n",
      "mpl_panel_a\n"
     ]
    }
   ],
   "source": [
    "#Passing axis methods\n",
    "import numpy as np\n",
    "layout = FigureLayout('f2_layout.svg')\n",
    "layout.make_mplfigure()\n",
    "layout.fig.set_facecolor('None')\n",
    "for mplax in layout.axes.values():\n",
    "    ax = mplax['axis']\n",
    "    ax.plot(np.arange(30),np.random.rand(30),color = 'k')\n",
    "    mpl_functions.adjust_spines(ax,'none', \n",
    "                  spine_locations={}, \n",
    "                  smart_bounds=True, \n",
    "                  xticks=None, \n",
    "                  yticks=None, \n",
    "                  linewidth=1)\n",
    "    ax.patch.set_facecolor('None')\n",
    "layout.apply_mpl_methods(layout.fig)\n",
    "layout.insert_mpl_in_layer('mpl_panel_a')\n",
    "layout.write_svg('test_output.svg')"
   ]
  },
  {
   "cell_type": "markdown",
   "metadata": {},
   "source": [
    "It is also possible to add figurefirst attributes to groups. Providing the figurefirsrt:groupname = \"mygroup\" attribute will cause the enclosed figurefirst:axes elements to be added to the layout.axes_groups dictionary keyed by groupname, and then axis name. For instance, if the follwing group exists in svg:\n",
    "\n",
    "```\n",
    "  <g\n",
    "       style=\"display:inline\"\n",
    "       transform=\"matrix(0.88667385,0,0,0.84804291,-1.1136586,117.0766)\"\n",
    "       id=\"g3965-1\"\n",
    "       figurefirst:groupname=\"oval\">\n",
    "       <rect\n",
    "         y=\"34.986671\"\n",
    "         x=\"70.899071\"\n",
    "         height=\"42.857143\"\n",
    "         width=\"594.55908\"\n",
    "         id=\"rect2985-3-0\"\n",
    "         style=\"fill:#008000\">\n",
    "        <figurefirst:axis\n",
    "           figurefirst:name=\"circadian\" />\n",
    "        </rect>\n",
    "   </g>\n",
    "```\n",
    "python will expose the axis in ```layout.axes_groups['oval']['circadian']['axis']```. All axes that are not included in a group  will be collected into layout.axes_groups['none']."
   ]
  },
  {
   "cell_type": "code",
   "execution_count": 6,
   "metadata": {
    "collapsed": false
   },
   "outputs": [
    {
     "data": {
      "text/plain": [
       "{u'holy': {u'circadian': {'axis': <matplotlib.axes._axes.Axes at 0x7f7ec1748dd0>,\n",
       "   'data': {'aspect_ratio': 14.505004655607735}},\n",
       "  u'dusk_maxn': {'axis': <matplotlib.axes._axes.Axes at 0x7f7ed0026110>,\n",
       "   'data': {'aspect_ratio': 0.75658231937787745}},\n",
       "  u'dusk_nentries': {'axis': <matplotlib.axes._axes.Axes at 0x7f7ec0b57350>,\n",
       "   'data': {'aspect_ratio': 0.75658231937787745}},\n",
       "  u'dusk_speed': {'axis': <matplotlib.axes._axes.Axes at 0x7f7ee0066b90>,\n",
       "   'data': {'aspect_ratio': 0.75658231937787745}},\n",
       "  u'early_maxn': {'axis': <matplotlib.axes._axes.Axes at 0x7f7ec0181e50>,\n",
       "   'data': {'aspect_ratio': 0.75658231937787745}},\n",
       "  u'early_nentries': {'axis': <matplotlib.axes._axes.Axes at 0x7f7ec0cf6f50>,\n",
       "   'data': {'aspect_ratio': 0.75658231937787745}},\n",
       "  u'early_speed': {'axis': <matplotlib.axes._axes.Axes at 0x7f7ec1a3c050>,\n",
       "   'data': {'aspect_ratio': 0.75658231937787745}},\n",
       "  u'morning_maxn': {'axis': <matplotlib.axes._axes.Axes at 0x7f7ec1679710>,\n",
       "   'data': {'aspect_ratio': 0.75658231937787745}},\n",
       "  u'morning_nentries': {'axis': <matplotlib.axes._axes.Axes at 0x7f7ec1d36510>,\n",
       "   'data': {'aspect_ratio': 0.75658231937787745}},\n",
       "  u'morning_speed': {'axis': <matplotlib.axes._axes.Axes at 0x7f7ebffb5590>,\n",
       "   'data': {'aspect_ratio': 0.75658231937787745}},\n",
       "  u'night_maxn': {'axis': <matplotlib.axes._axes.Axes at 0x7f7ec13d6690>,\n",
       "   'data': {'aspect_ratio': 0.75658231937787745}},\n",
       "  u'night_nentries': {'axis': <matplotlib.axes._axes.Axes at 0x7f7ec00ff990>,\n",
       "   'data': {'aspect_ratio': 0.75658231937787745}},\n",
       "  u'night_speed': {'axis': <matplotlib.axes._axes.Axes at 0x7f7ec11ff3d0>,\n",
       "   'data': {'aspect_ratio': 0.75658231937787745}}},\n",
       " u'oval': {u'circadian': {'axis': <matplotlib.axes._axes.Axes at 0x7f7ec176dfd0>,\n",
       "   'data': {'aspect_ratio': 14.505004655607735}},\n",
       "  u'dusk_maxn': {'axis': <matplotlib.axes._axes.Axes at 0x7f7ec173df50>,\n",
       "   'data': {'aspect_ratio': 0.75658231937787745}},\n",
       "  u'dusk_nentries': {'axis': <matplotlib.axes._axes.Axes at 0x7f7ec0be1d50>,\n",
       "   'data': {'aspect_ratio': 0.75658231937787745}},\n",
       "  u'dusk_speed': {'axis': <matplotlib.axes._axes.Axes at 0x7f7ec0428290>,\n",
       "   'data': {'aspect_ratio': 0.75658231937787745}},\n",
       "  u'early_maxn': {'axis': <matplotlib.axes._axes.Axes at 0x7f7ec038bc90>,\n",
       "   'data': {'aspect_ratio': 0.75658231937787745}},\n",
       "  u'early_nentries': {'axis': <matplotlib.axes._axes.Axes at 0x7f7ec1320750>,\n",
       "   'data': {'aspect_ratio': 0.75658231937787745}},\n",
       "  u'early_speed': {'axis': <matplotlib.axes._axes.Axes at 0x7f7ec05a6b10>,\n",
       "   'data': {'aspect_ratio': 0.75658231937787745}},\n",
       "  u'morning_maxn': {'axis': <matplotlib.axes._axes.Axes at 0x7f7ec0ae3290>,\n",
       "   'data': {'aspect_ratio': 0.75658231937787745}},\n",
       "  u'morning_nentries': {'axis': <matplotlib.axes._axes.Axes at 0x7f7ec0ebaf50>,\n",
       "   'data': {'aspect_ratio': 0.75658231937787745}},\n",
       "  u'morning_speed': {'axis': <matplotlib.axes._axes.Axes at 0x7f7ec050e590>,\n",
       "   'data': {'aspect_ratio': 0.75658231937787745}},\n",
       "  u'night_maxn': {'axis': <matplotlib.axes._axes.Axes at 0x7f7ec030ecd0>,\n",
       "   'data': {'aspect_ratio': 0.75658231937787745}},\n",
       "  u'night_nentries': {'axis': <matplotlib.axes._axes.Axes at 0x7f7ec1273050>,\n",
       "   'data': {'aspect_ratio': 0.75658231937787745}},\n",
       "  u'night_speed': {'axis': <matplotlib.axes._axes.Axes at 0x7f7ec058e490>,\n",
       "   'data': {'aspect_ratio': 0.75658231937787745}}},\n",
       " u'threeport': {u'circadian': {'axis': <matplotlib.axes._axes.Axes at 0x7f7ec0e3cf90>,\n",
       "   'data': {'aspect_ratio': 14.505004655607735}},\n",
       "  u'dusk_maxn': {'axis': <matplotlib.axes._axes.Axes at 0x7f7ec1916690>,\n",
       "   'data': {'aspect_ratio': 0.75658231937787745}},\n",
       "  u'dusk_nentries': {'axis': <matplotlib.axes._axes.Axes at 0x7f7ed1490a90>,\n",
       "   'data': {'aspect_ratio': 0.75658231937787745}},\n",
       "  u'dusk_speed': {'axis': <matplotlib.axes._axes.Axes at 0x7f7ec1e41b50>,\n",
       "   'data': {'aspect_ratio': 0.75658231937787745}},\n",
       "  u'early_maxn': {'axis': <matplotlib.axes._axes.Axes at 0x7f7ec1c46a90>,\n",
       "   'data': {'aspect_ratio': 0.75658231937787745}},\n",
       "  u'early_nentries': {'axis': <matplotlib.axes._axes.Axes at 0x7f7ec0857210>,\n",
       "   'data': {'aspect_ratio': 0.75658231937787745}},\n",
       "  u'early_speed': {'axis': <matplotlib.axes._axes.Axes at 0x7f7ed13f7350>,\n",
       "   'data': {'aspect_ratio': 0.75658231937787745}},\n",
       "  u'morning_maxn': {'axis': <matplotlib.axes._axes.Axes at 0x7f7ec19afc50>,\n",
       "   'data': {'aspect_ratio': 0.75658231937787745}},\n",
       "  u'morning_nentries': {'axis': <matplotlib.axes._axes.Axes at 0x7f7ed150aa50>,\n",
       "   'data': {'aspect_ratio': 0.75658231937787745}},\n",
       "  u'morning_speed': {'axis': <matplotlib.axes._axes.Axes at 0x7f7ed14195d0>,\n",
       "   'data': {'aspect_ratio': 0.75658231937787745}},\n",
       "  u'night_maxn': {'axis': <matplotlib.axes._axes.Axes at 0x7f7ec1bebf50>,\n",
       "   'data': {'aspect_ratio': 0.75658231937787745}},\n",
       "  u'night_nentries': {'axis': <matplotlib.axes._axes.Axes at 0x7f7ed1525a50>,\n",
       "   'data': {'aspect_ratio': 0.75658231937787745}},\n",
       "  u'night_speed': {'axis': <matplotlib.axes._axes.Axes at 0x7f7ed0152450>,\n",
       "   'data': {'aspect_ratio': 0.75658231937787745}}}}"
      ]
     },
     "execution_count": 6,
     "metadata": {},
     "output_type": "execute_result"
    }
   ],
   "source": [
    "#Group axes example\n",
    "layout = FigureLayout('group_axes_example.svg')\n",
    "mplfig = layout.make_mplfigures()\n",
    "layout.axes_groups\n",
    "layout.figures\n",
    "#layout.axes_groups['oval']['circadian']['axis'].plot([1,2,3,4])\n",
    "#layout.insert_mpl_in_layer('mpl_layer')\n",
    "#layout.write_svg('test_output.svg')"
   ]
  },
  {
   "cell_type": "code",
   "execution_count": 16,
   "metadata": {
    "collapsed": false
   },
   "outputs": [
    {
     "data": {
      "text/plain": [
       "{u'circadian': {'axis': <matplotlib.axes._axes.Axes at 0x7f7ec0e3cf90>,\n",
       "  'data': {'aspect_ratio': 14.505004655607735}},\n",
       " u'dusk_maxn': {'axis': <matplotlib.axes._axes.Axes at 0x7f7ec1916690>,\n",
       "  'data': {'aspect_ratio': 0.75658231937787745}},\n",
       " u'dusk_nentries': {'axis': <matplotlib.axes._axes.Axes at 0x7f7ed1490a90>,\n",
       "  'data': {'aspect_ratio': 0.75658231937787745}},\n",
       " u'dusk_speed': {'axis': <matplotlib.axes._axes.Axes at 0x7f7ec1e41b50>,\n",
       "  'data': {'aspect_ratio': 0.75658231937787745}},\n",
       " u'early_maxn': {'axis': <matplotlib.axes._axes.Axes at 0x7f7ec1c46a90>,\n",
       "  'data': {'aspect_ratio': 0.75658231937787745}},\n",
       " u'early_nentries': {'axis': <matplotlib.axes._axes.Axes at 0x7f7ec0857210>,\n",
       "  'data': {'aspect_ratio': 0.75658231937787745}},\n",
       " u'early_speed': {'axis': <matplotlib.axes._axes.Axes at 0x7f7ed13f7350>,\n",
       "  'data': {'aspect_ratio': 0.75658231937787745}},\n",
       " u'morning_maxn': {'axis': <matplotlib.axes._axes.Axes at 0x7f7ec19afc50>,\n",
       "  'data': {'aspect_ratio': 0.75658231937787745}},\n",
       " u'morning_nentries': {'axis': <matplotlib.axes._axes.Axes at 0x7f7ed150aa50>,\n",
       "  'data': {'aspect_ratio': 0.75658231937787745}},\n",
       " u'morning_speed': {'axis': <matplotlib.axes._axes.Axes at 0x7f7ed14195d0>,\n",
       "  'data': {'aspect_ratio': 0.75658231937787745}},\n",
       " u'night_maxn': {'axis': <matplotlib.axes._axes.Axes at 0x7f7ec1bebf50>,\n",
       "  'data': {'aspect_ratio': 0.75658231937787745}},\n",
       " u'night_nentries': {'axis': <matplotlib.axes._axes.Axes at 0x7f7ed1525a50>,\n",
       "  'data': {'aspect_ratio': 0.75658231937787745}},\n",
       " u'night_speed': {'axis': <matplotlib.axes._axes.Axes at 0x7f7ed0152450>,\n",
       "  'data': {'aspect_ratio': 0.75658231937787745}}}"
      ]
     },
     "execution_count": 16,
     "metadata": {},
     "output_type": "execute_result"
    }
   ],
   "source": [
    "layout.axes_groups['none']"
   ]
  },
  {
   "cell_type": "code",
   "execution_count": 18,
   "metadata": {
    "collapsed": false
   },
   "outputs": [
    {
     "data": {
      "text/plain": [
       "[u'morning_maxn',\n",
       " u'dusk_nentries',\n",
       " u'night_maxn',\n",
       " u'morning_nentries',\n",
       " u'circadian',\n",
       " u'early_speed',\n",
       " u'dusk_speed',\n",
       " u'dusk_maxn',\n",
       " u'night_speed',\n",
       " u'early_nentries',\n",
       " u'night_nentries',\n",
       " u'early_maxn',\n",
       " u'morning_speed']"
      ]
     },
     "execution_count": 18,
     "metadata": {},
     "output_type": "execute_result"
    }
   ],
   "source": [
    "layout.axes_groups['none'].keys()"
   ]
  },
  {
   "cell_type": "code",
   "execution_count": 19,
   "metadata": {
    "collapsed": false
   },
   "outputs": [
    {
     "data": {
      "text/plain": [
       "[u'morning_maxn',\n",
       " u'dusk_nentries',\n",
       " u'night_maxn',\n",
       " u'morning_nentries',\n",
       " u'circadian',\n",
       " u'early_speed',\n",
       " u'dusk_speed',\n",
       " u'dusk_maxn',\n",
       " u'night_speed',\n",
       " u'early_nentries',\n",
       " u'night_nentries',\n",
       " u'early_maxn',\n",
       " u'morning_speed']"
      ]
     },
     "execution_count": 19,
     "metadata": {},
     "output_type": "execute_result"
    }
   ],
   "source": [
    "layout.axes.keys()"
   ]
  },
  {
   "cell_type": "code",
   "execution_count": null,
   "metadata": {
    "collapsed": true
   },
   "outputs": [],
   "source": []
  }
 ],
 "metadata": {
  "kernelspec": {
   "display_name": "Python 2",
   "language": "python",
   "name": "python2"
  },
  "language_info": {
   "codemirror_mode": {
    "name": "ipython",
    "version": 2
   },
   "file_extension": ".py",
   "mimetype": "text/x-python",
   "name": "python",
   "nbconvert_exporter": "python",
   "pygments_lexer": "ipython2",
   "version": "2.7.11"
  }
 },
 "nbformat": 4,
 "nbformat_minor": 0
}
