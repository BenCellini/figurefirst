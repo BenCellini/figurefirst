{
 "cells": [
  {
   "cell_type": "code",
   "execution_count": 1,
   "metadata": {
    "collapsed": false
   },
   "outputs": [
    {
     "name": "stdout",
     "output_type": "stream",
     "text": [
      "Using matplotlib backend: Qt4Agg\n",
      "Populating the interactive namespace from numpy and matplotlib\n"
     ]
    }
   ],
   "source": [
    "%pylab"
   ]
  },
  {
   "cell_type": "markdown",
   "metadata": {},
   "source": [
    "... add overview and an introductory use case."
   ]
  },
  {
   "cell_type": "code",
   "execution_count": 2,
   "metadata": {
    "collapsed": false
   },
   "outputs": [],
   "source": [
    "from figurefirst import FigureLayout,mpl_functions"
   ]
  },
  {
   "cell_type": "markdown",
   "metadata": {},
   "source": [
    "You can decorate the svg <figurefirsrt:axis> tag with mpl.axis methods. For example to call ax.axhspan(100,200,zorder=10,color ='r',alpha = 0.3) on the axis named frequency.22H05.start use the following tag:\n",
    "\n",
    "```\n",
    "<figurefirst:axis\n",
    "     figurefirst:name=\"frequency.22H05.start\"\n",
    "     figurefirst:axhspan=\"100,200,zorder=10,color='r',alpha=.3\"/> ```\n",
    "     \n",
    "The layout.apply_mpl_methods function will then apply the methods passing the value of the svg atribute as arguments to the mpl.axis method."
   ]
  },
  {
   "cell_type": "code",
   "execution_count": 3,
   "metadata": {
    "collapsed": false,
    "scrolled": false
   },
   "outputs": [
    {
     "name": "stdout",
     "output_type": "stream",
     "text": [
      "ax.set_ylim(0,250)\n",
      "ax.yaxis.set_ticks([0,100,200])\n",
      "ax.set_ylabel('y label')\n",
      "ax.axhspan(100,200,zorder=10,color='r',alpha=.3)\n",
      "mpl_panel_a\n"
     ]
    }
   ],
   "source": [
    "#Passing axis methods\n",
    "import numpy as np\n",
    "layout = FigureLayout('f2_layout.svg')\n",
    "layout.make_mplfigure()\n",
    "layout.fig.set_facecolor('None')\n",
    "for mplax in layout.axes.values():\n",
    "    ax = mplax['axis']\n",
    "    ax.plot(np.arange(30),np.random.rand(30),color = 'k')\n",
    "    mpl_functions.adjust_spines(ax,'none', \n",
    "                  spine_locations={}, \n",
    "                  smart_bounds=True, \n",
    "                  xticks=None, \n",
    "                  yticks=None, \n",
    "                  linewidth=1)\n",
    "    ax.patch.set_facecolor('None')\n",
    "layout.apply_mpl_methods(layout.fig)\n",
    "layout.insert_mpl_in_layer('mpl_panel_a')\n",
    "layout.write_svg('test_output.svg')"
   ]
  },
  {
   "cell_type": "markdown",
   "metadata": {},
   "source": [
    "It is also possible to add figurefirst attributes to groups. Providing the figurefirsrt:groupname = \"mygroup\" attribute will cause the enclosed figurefirst:axes elements to be added to the layout.axes_groups dictionary keyed by groupname, and then axis name. For instance, if the follwing group exists in svg:\n",
    "\n",
    "```\n",
    "  <g\n",
    "       style=\"display:inline\"\n",
    "       transform=\"matrix(0.88667385,0,0,0.84804291,-1.1136586,117.0766)\"\n",
    "       id=\"g3965-1\"\n",
    "       figurefirst:groupname=\"oval\">\n",
    "       <rect\n",
    "         y=\"34.986671\"\n",
    "         x=\"70.899071\"\n",
    "         height=\"42.857143\"\n",
    "         width=\"594.55908\"\n",
    "         id=\"rect2985-3-0\"\n",
    "         style=\"fill:#008000\">\n",
    "        <figurefirst:axis\n",
    "           figurefirst:name=\"circadian\" />\n",
    "        </rect>\n",
    "   </g>\n",
    "```\n",
    "python will expose the axis in ```layout.axes_groups['oval']['circadian']['axis']```. All axes that are not included in a group  will be collected into layout.axes_groups['none']."
   ]
  },
  {
   "cell_type": "code",
   "execution_count": 17,
   "metadata": {
    "collapsed": false
   },
   "outputs": [
    {
     "name": "stdout",
     "output_type": "stream",
     "text": [
      "[u'threeport', u'oval', 'none', u'holy']\n",
      "mpl_panel_a\n",
      "mpl_layer\n"
     ]
    }
   ],
   "source": [
    "#Group axes example\n",
    "layout = FigureLayout('group_axes_example.svg')\n",
    "mplfig = layout.make_mplfigure()\n",
    "print layout.axes_groups.keys()\n",
    "layout.axes_groups['oval']['circadian']['axis'].plot([1,2,3,4])\n",
    "layout.insert_mpl_in_layer('mpl_layer')\n",
    "layout.write_svg('test_output.svg')"
   ]
  },
  {
   "cell_type": "code",
   "execution_count": null,
   "metadata": {
    "collapsed": false
   },
   "outputs": [],
   "source": []
  },
  {
   "cell_type": "code",
   "execution_count": null,
   "metadata": {
    "collapsed": true
   },
   "outputs": [],
   "source": []
  }
 ],
 "metadata": {
  "kernelspec": {
   "display_name": "Python 2",
   "language": "python",
   "name": "python2"
  },
  "language_info": {
   "codemirror_mode": {
    "name": "ipython",
    "version": 2
   },
   "file_extension": ".py",
   "mimetype": "text/x-python",
   "name": "python",
   "nbconvert_exporter": "python",
   "pygments_lexer": "ipython2",
   "version": "2.7.11"
  }
 },
 "nbformat": 4,
 "nbformat_minor": 0
}
