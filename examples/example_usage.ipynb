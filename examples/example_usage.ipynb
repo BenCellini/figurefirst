{
 "cells": [
  {
   "cell_type": "code",
   "execution_count": 1,
   "metadata": {
    "collapsed": false
   },
   "outputs": [
    {
     "name": "stdout",
     "output_type": "stream",
     "text": [
      "Using matplotlib backend: Qt4Agg\n",
      "Populating the interactive namespace from numpy and matplotlib\n"
     ]
    }
   ],
   "source": [
    "%pylab"
   ]
  },
  {
   "cell_type": "code",
   "execution_count": 5,
   "metadata": {
    "collapsed": true
   },
   "outputs": [],
   "source": [
    "ax = gca()"
   ]
  },
  {
   "cell_type": "code",
   "execution_count": 10,
   "metadata": {
    "collapsed": false
   },
   "outputs": [
    {
     "data": {
      "text/plain": [
       "[]"
      ]
     },
     "execution_count": 10,
     "metadata": {},
     "output_type": "execute_result"
    }
   ],
   "source": [
    "ax.spines['left'].set_visible(False)\n",
    "ax.spines['bottom'].set_visible(False)\n",
    "ax.spines['top'].set_visible(False)\n",
    "ax.spines['right'].set_visible(False)\n",
    "ax.set_xticks([])\n",
    "ax.set_yticks([])"
   ]
  },
  {
   "cell_type": "code",
   "execution_count": 11,
   "metadata": {
    "collapsed": true
   },
   "outputs": [],
   "source": [
    "draw()"
   ]
  },
  {
   "cell_type": "markdown",
   "metadata": {},
   "source": [
    "... add overview and an introductory use case."
   ]
  },
  {
   "cell_type": "code",
   "execution_count": 2,
   "metadata": {
    "collapsed": false
   },
   "outputs": [],
   "source": [
    "from figurefirst import FigureLayout,mpl_functions"
   ]
  },
  {
   "cell_type": "markdown",
   "metadata": {},
   "source": [
    "You can decorate the svg <figurefirsrt:axis> tag with mpl.axis methods. For example to call ax.axhspan(100,200,zorder=10,color ='r',alpha = 0.3) on the axis named frequency.22H05.start use the following tag:\n",
    "\n",
    "```\n",
    "<figurefirst:axis\n",
    "     figurefirst:name=\"frequency.22H05.start\"\n",
    "     figurefirst:axhspan=\"100,200,zorder=10,color='r',alpha=.3\"/> ```\n",
    "     \n",
    "The layout.apply_mpl_methods function will then apply the methods passing the value of the svg atribute as arguments to the mpl.axis method."
   ]
  },
  {
   "cell_type": "code",
   "execution_count": 20,
   "metadata": {
    "collapsed": false,
    "scrolled": false
   },
   "outputs": [],
   "source": [
    "#Passing axis methods\n",
    "import numpy as np\n",
    "layout = FigureLayout('axis_methods_layout.svg')\n",
    "layout.make_mplfigures()\n",
    "layout.fig.set_facecolor('None')\n",
    "for mplax in layout.axes.values():\n",
    "    ax = mplax['axis']\n",
    "    ax.plot(np.arange(30),np.random.rand(30),color = 'k')\n",
    "    mpl_functions.adjust_spines(ax,'none', \n",
    "                  spine_locations={}, \n",
    "                  smart_bounds=True, \n",
    "                  xticks=None, \n",
    "                  yticks=None, \n",
    "                  linewidth=1)\n",
    "    ax.patch.set_facecolor('None')\n",
    "layout.apply_mpl_methods(layout.fig)\n",
    "layout.insert_figures('mpl_panel_a')\n",
    "layout.write_svg('axis_methods_test_output.svg')\n",
    "close('all')"
   ]
  },
  {
   "cell_type": "markdown",
   "metadata": {},
   "source": [
    "It is also possible to add figurefirst attributes to groups. Providing the figurefirsrt:groupname = \"mygroup\" attribute will cause the enclosed figurefirst:axes elements to be added to the layout.axes_groups dictionary keyed by groupname, and then axis name. For instance, if the follwing group exists in svg:\n",
    "\n",
    "```\n",
    "  <g\n",
    "       style=\"display:inline\"\n",
    "       transform=\"matrix(0.88667385,0,0,0.84804291,-1.1136586,117.0766)\"\n",
    "       id=\"g3965-1\"\n",
    "       figurefirst:groupname=\"oval\">\n",
    "       <rect\n",
    "         y=\"34.986671\"\n",
    "         x=\"70.899071\"\n",
    "         height=\"42.857143\"\n",
    "         width=\"594.55908\"\n",
    "         id=\"rect2985-3-0\"\n",
    "         style=\"fill:#008000\">\n",
    "        <figurefirst:axis\n",
    "           figurefirst:name=\"circadian\" />\n",
    "        </rect>\n",
    "   </g>\n",
    "```\n",
    "python will expose the axis in ```layout.axes_groups['oval']['circadian']['axis']```. All axes that are not included in a group  will be collected into layout.axes_groups['none']."
   ]
  },
  {
   "cell_type": "code",
   "execution_count": 18,
   "metadata": {
    "collapsed": false
   },
   "outputs": [],
   "source": [
    "#Group axes example\n",
    "layout = FigureLayout('group_axes_layout.svg')\n",
    "layout.make_mplfigures()\n",
    "layout.insert_figures()\n",
    "layout.write_svg('group_axes_test_output.svg')\n",
    "close('all')"
   ]
  },
  {
   "cell_type": "code",
   "execution_count": 19,
   "metadata": {
    "collapsed": false
   },
   "outputs": [],
   "source": [
    "#Groups and figures example\n",
    "layout = FigureLayout('multi_figures_layout.svg')\n",
    "mplfig = layout.make_mplfigures()\n",
    "layout.append_figure_to_layer(layout.figures.values()[0],'mpl_layer_2')\n",
    "layout.append_figure_to_layer(layout.figures.values()[1],'mpl_layer_3')\n",
    "layout.append_figure_to_layer(layout.figures.values()[2],'mpl_layer_4')\n",
    "layout.write_svg('multi_fig_test_output.svg')\n",
    "close('all')"
   ]
  },
  {
   "cell_type": "code",
   "execution_count": null,
   "metadata": {
    "collapsed": true
   },
   "outputs": [],
   "source": []
  }
 ],
 "metadata": {
  "kernelspec": {
   "display_name": "Python 2",
   "language": "python",
   "name": "python2"
  },
  "language_info": {
   "codemirror_mode": {
    "name": "ipython",
    "version": 2
   },
   "file_extension": ".py",
   "mimetype": "text/x-python",
   "name": "python",
   "nbconvert_exporter": "python",
   "pygments_lexer": "ipython2",
   "version": "2.7.11"
  }
 },
 "nbformat": 4,
 "nbformat_minor": 0
}
